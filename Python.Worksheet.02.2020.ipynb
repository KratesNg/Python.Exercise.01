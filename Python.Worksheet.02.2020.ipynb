{
 "cells": [
  {
   "cell_type": "markdown",
   "metadata": {},
   "source": [
    "## This worksheet has two sections. Answer any 5 in each section."
   ]
  },
  {
   "cell_type": "markdown",
   "metadata": {},
   "source": [
    "### Section A (Answer any 5 or more in this section)"
   ]
  },
  {
   "cell_type": "raw",
   "metadata": {},
   "source": [
    "A1) What is the output of the following Python code segment?\n",
    "\n",
    "list = [ 'Tech', 404, 3.03, 'Beamers', 33.3 ]\n",
    "print list[1:3]\n"
   ]
  },
  {
   "cell_type": "raw",
   "metadata": {},
   "source": [
    "A2) What is the result for the following Python code segment?\n",
    "\n",
    "num = '5' * '5'"
   ]
  },
  {
   "cell_type": "raw",
   "metadata": {},
   "source": [
    "A3) What gets printed for the following Python code?\n",
    "\n",
    "x = True\n",
    "y = False\n",
    "z = False\n",
    "if not x or y:\n",
    "    print 1\n",
    "elif not x or not y and z:\n",
    "    print 2\n",
    "elif not x or y or not y and x:\n",
    "    print 3\n",
    "else:\n",
    "    print 4\n"
   ]
  },
  {
   "cell_type": "raw",
   "metadata": {},
   "source": [
    "A4) What is the output of the following Python code?\n",
    "\n",
    "a = [1,2,3,None,(),[],]\n",
    "print len(a)\n"
   ]
  },
  {
   "cell_type": "raw",
   "metadata": {},
   "source": [
    "A5) What is the output of the following Python code?\n",
    "\n",
    "tinytuple = (123, 'techbeamers')\n",
    "print tinytuple * 2\n"
   ]
  },
  {
   "cell_type": "raw",
   "metadata": {},
   "source": [
    "A6) How many stars does this Python code output?\n",
    "\n",
    "i = 7\n",
    "while i > 0:\n",
    "i -=3\n",
    "print(‘*’)\n",
    "if i <= 2:\n",
    "\t\tbreak\n",
    "else:\n",
    "\tprint(‘*’)\n"
   ]
  },
  {
   "cell_type": "raw",
   "metadata": {},
   "source": [
    "A7) What is the output of this Python code segment?\n",
    "\n",
    "def func(val1, val2=2, val3=7, val4=1):\n",
    "\treturn val1**val2**val3\n",
    "print(func(val2=2, val1=2, val3=4))\n"
   ]
  },
  {
   "cell_type": "raw",
   "metadata": {},
   "source": [
    "A8) Debug the following Python code segment:\n",
    "\n",
    "KM_PER_MILE = 1.60934\n",
    "\n",
    "# miles to km converter\n",
    "miles = 36.9\n",
    "km = miles * KM_PER_MILE\n",
    "print(str(miles) + \" miles = \" + str(km) + \" km\")\n",
    "\n",
    "# km to mile converter\n",
    "km = 4.76\n",
    "miles = km / KM_PER_MILE\n",
    "print(str(km) + \" km = \" + str(miles) + \" miles\")\n"
   ]
  },
  {
   "cell_type": "raw",
   "metadata": {},
   "source": [
    "A9) Debug the following Python code segment.\n",
    "\n",
    "A = 7.2\n",
    "B = 2.0\n",
    "C = (A + B)\n",
    "if C >= 10:\n",
    "  if C > 10:\n",
    "    print(\"Total is higher than 10\")\n",
    "    print(\"The total is \", C )\n",
    "  else:\n",
    "    print(\"The total is \", C )\n",
    "else:\n",
    "    print(\"Total is lower than 10\")\n",
    "    print(\"The total is \", C )\n"
   ]
  },
  {
   "cell_type": "raw",
   "metadata": {},
   "source": [
    "A10) The following code should remove numbers smaller than 5 from the list nums. Can you debug the code?\n",
    "\n",
    "nums = [1, 2, 5,10, 3, 100, 9, 24]\n",
    "For i in nums:\n",
    "\tif < 5:\n",
    "\t\tnums.remove(i)\n"
   ]
  },
  {
   "cell_type": "markdown",
   "metadata": {},
   "source": [
    "### Section B (Answer any 5 or more in this section)"
   ]
  },
  {
   "cell_type": "raw",
   "metadata": {},
   "source": [
    "B1) Describe the output of the following program segment.\n",
    "\n",
    "for i in range (0,4):\n",
    "\tturtle.forward(50)\n",
    "\tturtle.left(90)\n"
   ]
  },
  {
   "cell_type": "raw",
   "metadata": {},
   "source": [
    "B2)\n",
    "i) What is the purpose of programming (coding)?\n",
    "ii) Describe the steps in writing a program.\n"
   ]
  },
  {
   "cell_type": "raw",
   "metadata": {},
   "source": [
    "B3) Write a Python program that computes the body mass index (BMI) of an individual. Use the following formula to compute the BMI before displaying it. \n",
    "BMI = weight / ( height x height)\n",
    "Test your code with the data from your friends and family members.\n",
    "(What is the danger level of a BMI? Can you program give a message if the BMI number is bad?)\n"
   ]
  },
  {
   "cell_type": "raw",
   "metadata": {},
   "source": [
    "B4) In the University of Aberdeen, letter grades are mapped to grade points in the following manner:\n",
    "\n",
    "A+ = 4.3\n",
    "A = 4.0\n",
    "A- = 3.7\n",
    "B+ = 3.3\n",
    "B = 3.0\n",
    "B- = 2.7\n",
    "C+ = 2.3\n",
    "C = 2.0\n",
    "C- = 1.7\n",
    "D+ = 1.3\n",
    "D = 1.0\n",
    "F = 0\n",
    "\n",
    "Write a python to compute and display the equivalent number of grade points. \n"
   ]
  },
  {
   "cell_type": "raw",
   "metadata": {},
   "source": [
    "B5) One of the first known examples of encryption was used by Julius Caesar. Caesar needed to provide written instructions to his generals, but he didn’t want his enemies to learn his plans if the message slipped into their hands. As a result, he developed what later became known as the Caesar cipher.\n",
    "\n",
    "The idea behind this cipher is simple (and as such, it provides no protection against modern code breaking techniques). Each letter in the original message is shifted by 3 places. As a result, A becomes D, B becomes E, C becomes F, D becomes G, etc.\n",
    "\n",
    "The last three letters in the alphabet are wrapped around to the beginning: X becomes A, Y becomes B and Z becomes C. Non-letter characters are not modified by the cipher.\n",
    "\n",
    "Write a program that implements a Caesar cipher. Ensure that your program encodes both uppercase and lowercase letters. Your program should also support negative shift values so that it can be used both to encode messages and decode messages.\n"
   ]
  },
  {
   "cell_type": "raw",
   "metadata": {},
   "source": [
    "B6) In order to win the top prize in a lottery, one must match all 6 numbers on his or her ticket to the 6 numbers between 1 and 49 that are drawn by the lottery organizer. Write a program that generates a random selection of 6 numbers for a lottery ticket. Ensure that the 6 numbers selected do not contain any duplicates. Display the numbers in ascending order.\n"
   ]
  },
  {
   "cell_type": "raw",
   "metadata": {},
   "source": [
    "B7) Two words are anagrams if they contain all of the same letters, but in a different order. For example, “evil” and “live” are anagrams because each contains one “e”, one “i”, one “l”, and one “v”. Create a program that reads two strings and determines whether or not they are anagrams, and reports the result."
   ]
  },
  {
   "cell_type": "raw",
   "metadata": {},
   "source": [
    "B8) The following table provides information on cities in the Country Aberdeen and their populations:\n",
    "\n",
    "City\tPopulation\n",
    "A\t617,280\n",
    "B\t447,287\n",
    "C\t94,782\n",
    "D\t864,122\n",
    "E\t591,620\n",
    "F\t464,990\n",
    "G\t455,123\n",
    "H\t318,014\n",
    "I\t300,352\n",
    "J\t395,515\n",
    "Use a spreadsheet to create the above table of data and save to a .csv file. Write a Python program to read the .csv file and do the following tasks:\n",
    "\n",
    "I. Calculate the usual statistical information such as min, max, mean… etc.\n",
    "II. A scatter plot for the city to population data.\n",
    "III. A bar chart for the city to population data.\n",
    "IV. A pie chart for the city to population data.\n"
   ]
  }
 ],
 "metadata": {
  "kernelspec": {
   "display_name": "Python 3",
   "language": "python",
   "name": "python3"
  },
  "language_info": {
   "codemirror_mode": {
    "name": "ipython",
    "version": 2
   },
   "file_extension": ".py",
   "mimetype": "text/x-python",
   "name": "python",
   "nbconvert_exporter": "python",
   "pygments_lexer": "ipython2",
   "version": "2.7.17"
  }
 },
 "nbformat": 4,
 "nbformat_minor": 2
}
